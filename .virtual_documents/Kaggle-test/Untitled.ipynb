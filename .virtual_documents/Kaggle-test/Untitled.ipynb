import pandas as pd

train = pd.read_csv("data/raw/train.csv")
test = pd.read_csv("data/raw/test.csv")

train.head()




