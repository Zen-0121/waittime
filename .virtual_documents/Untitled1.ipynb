import pandas as pd

train = pd.read_csv("data/raw/train.csv")
test = pd.read_csv("data/raw/test.csv")

train.head()



import pandas as pd
from sklearn.linear_model import LogisticRegression



train = pd.read_csv("data/raw/train.csv")
test = pd.read_csv("data/raw/test.csv")



# 性別を数値に変換
train['Sex'] = train['Sex'].map({'male': 0, 'female': 1})
test['Sex'] = test['Sex'].map({'male': 0, 'female': 1})

# 説明変数と目的変数
X = train[['Sex']]
y = train['Survived']



model = LogisticRegression()
model.fit(X, y)



pred = model.predict(test[['Sex']])



submission = pd.DataFrame({
    "PassengerId": test["PassengerId"],
    "Survived": pred
})
submission.to_csv("submission.csv", index=False)




