import numpy as np, pandas as pd
a = np.arange(5)
pd.DataFrame({"a": a, "b": a**2})




